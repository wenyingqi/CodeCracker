{
  "nbformat": 4,
  "nbformat_minor": 0,
  "metadata": {
    "colab": {
      "provenance": [],
      "toc_visible": true
    },
    "kernelspec": {
      "name": "python3",
      "display_name": "Python 3"
    },
    "language_info": {
      "name": "python"
    }
  },
  "cells": [
    {
      "cell_type": "code",
      "source": [
        "import matplotlib.pyplot as plt"
      ],
      "metadata": {
        "id": "lO16Z9t7Qb9t"
      },
      "execution_count": null,
      "outputs": []
    },
    {
      "cell_type": "code",
      "execution_count": null,
      "metadata": {
        "id": "yuinVf-BOPTj"
      },
      "outputs": [],
      "source": [
        "string = 'HXLPCXJJSHXLPCXJJSHXLPHXOOUEVELSFPXOUNPKEYFEOXHXCXJJSFXSYNCEFXXPREKSPOSYWNPKSKSNPHXOHNPSUYYJNFFJEQEVGJBCUOXPNKUOCXJJSNFUXBYHOUNPWHNPSULSFOUECSOHXONUXDEOUEGYYVEJEJREVUEVFSBCEVXZJNYWSOOESONJEHXOHNPSUJGHESVNLNFUGXBLEVEHXLPUEVELNOUJEOUEVESVEPXJNCENPOUESNVCXJJSNJSZVSNHCXJJSRBOGXBJNKUOCSOCUSRSOCXJJSSPHOUSOFQEVGYNWESJXBFECXJJSGXBWPXLHXORBOHXCSOFESORSOFCXJJSNLXPHEVSPHUEVESYNCEREKSPOXKEOVSOUEVFYEEDGCXJJSSPHLEPOXPFSGNPKOXUEVFEYZCXJJSNPSHVESJGFXVOXZLSGCXJJSHXCSOFESORSOFHXCSOFESORSOFSPHFXJEONJEFCXJJSHXRSOFESOCSOFZXVCXJJSGXBFEECXJJSSFFUECXBYHPOSPFLEVENOUEVABEFONXPCXJJSNOHNHPOJBCUJSOOEVLUNCULSGFUEDBONO'\n"
      ]
    },
    {
      "cell_type": "code",
      "source": [
        "len(string)"
      ],
      "metadata": {
        "colab": {
          "base_uri": "https://localhost:8080/"
        },
        "id": "7LEwb1wrOlG8",
        "outputId": "d26c1506-a410-4862-9b14-d55b1c5d8ca8"
      },
      "execution_count": null,
      "outputs": [
        {
          "output_type": "execute_result",
          "data": {
            "text/plain": [
              "595"
            ]
          },
          "metadata": {},
          "execution_count": 4
        }
      ]
    },
    {
      "cell_type": "code",
      "source": [
        "# find frquency of individual characters\n",
        "def freq(str):\n",
        "  dict = {}\n",
        "  dict['A'] = 0\n",
        "  dict['B'] = 0\n",
        "  dict['C'] = 0\n",
        "  dict['D'] = 0\n",
        "  dict['E'] = 0\n",
        "  dict['F'] = 0\n",
        "  dict['G'] = 0\n",
        "  dict['H'] = 0\n",
        "  dict['I'] = 0\n",
        "  dict['J'] = 0\n",
        "  dict['K'] = 0\n",
        "  dict['L'] = 0\n",
        "  dict['M'] = 0\n",
        "  dict['N'] = 0\n",
        "  dict['O'] = 0\n",
        "  dict['P'] = 0\n",
        "  dict['Q'] = 0\n",
        "  dict['R'] = 0\n",
        "  dict['S'] = 0\n",
        "  dict['T'] = 0\n",
        "  dict['U'] = 0\n",
        "  dict['V'] = 0\n",
        "  dict['W'] = 0\n",
        "  dict['X'] = 0\n",
        "  dict['Y'] = 0\n",
        "  dict['Z'] = 0\n",
        "\n",
        "  for i in range(len(str)):\n",
        "    dict[str[i]] = dict[str[i]] + 1\n",
        "\n",
        "  letters = []\n",
        "  for i in dict.keys():\n",
        "    letters.append(i)\n",
        "  letters.sort()\n",
        "\n",
        "  frequency = []\n",
        "  for i in letters:\n",
        "    frequency.append(dict[i])\n",
        "\n",
        "  plt.bar(letters, frequency)\n",
        "  plt.show()"
      ],
      "metadata": {
        "id": "yfD8rr0zkf_J"
      },
      "execution_count": null,
      "outputs": []
    },
    {
      "cell_type": "code",
      "source": [
        "# Finds freq of pairs of adjacent characters\n",
        "def freq2(str):\n",
        "  dict = {}\n",
        "  duos_big = []\n",
        "\n",
        "  for i in range(len(str) - 1):\n",
        "    duo = str[i-1:i+1] # gets i and i+1\n",
        "    if duo in dict:\n",
        "      dict[duo] = dict[duo] + 1\n",
        "    else:\n",
        "      dict[duo] = 1\n",
        "\n",
        "  duos = []\n",
        "  for i in dict.keys():\n",
        "    duos.append(i)\n",
        "  duos.sort()\n",
        "\n",
        "  frequency = []\n",
        "  for i in dict.keys():\n",
        "    if dict[i] > 10:\n",
        "      duos_big.append(i)\n",
        "      frequency.append(dict[i])\n",
        "\n",
        "  plt.bar(duos_big, frequency)\n",
        "  plt.show()"
      ],
      "metadata": {
        "id": "Jn5MTkIjqnvM"
      },
      "execution_count": null,
      "outputs": []
    },
    {
      "cell_type": "code",
      "source": [
        "# Finds freq of trios of adjacent letters\n",
        "def freq3(str):\n",
        "  dict = {}\n",
        "  duos_big = []\n",
        "\n",
        "  for i in range(len(str) - 2):\n",
        "    duo = str[i-1:i+2]\n",
        "    if duo in dict:\n",
        "      dict[duo] = dict[duo] + 1\n",
        "    else:\n",
        "      dict[duo] = 1\n",
        "\n",
        "  duos = []\n",
        "  for i in dict.keys():\n",
        "    duos.append(i)\n",
        "  duos.sort()\n",
        "\n",
        "  frequency = []\n",
        "  for i in dict.keys():\n",
        "    if dict[i] > 5:\n",
        "      duos_big.append(i)\n",
        "      frequency.append(dict[i])\n",
        "\n",
        "  plt.bar(duos_big, frequency)\n",
        "  plt.show()"
      ],
      "metadata": {
        "id": "TRENyJCwvOdc"
      },
      "execution_count": null,
      "outputs": []
    },
    {
      "cell_type": "code",
      "source": [
        "# finds freq of 4s of letters\n",
        "def freq4(str):\n",
        "  dict = {}\n",
        "  duos_big = []\n",
        "\n",
        "  for i in range(len(str) - 3):\n",
        "    duo = str[i-1:i+3]\n",
        "    if duo in dict:\n",
        "      dict[duo] = dict[duo] + 1\n",
        "    else:\n",
        "      dict[duo] = 1\n",
        "\n",
        "  duos = []\n",
        "  for i in dict.keys():\n",
        "    duos.append(i)\n",
        "  duos.sort()\n",
        "\n",
        "  frequency = []\n",
        "  for i in dict.keys():\n",
        "    if dict[i] > 3:\n",
        "      duos_big.append(i)\n",
        "      frequency.append(dict[i])\n",
        "\n",
        "  plt.bar(duos_big, frequency)\n",
        "  plt.show()"
      ],
      "metadata": {
        "id": "3HnYiOyIwb4C"
      },
      "execution_count": null,
      "outputs": []
    },
    {
      "cell_type": "code",
      "source": [
        "# returns a new string that swaps the two given letters in the original string \n",
        "def swap(str1, l1, l2):\n",
        "  newstr = []\n",
        "  for i in range(len(str1)):\n",
        "    if str1[i] == l1:\n",
        "      newstr.append(l2)\n",
        "    elif str1[i] == l2:\n",
        "      newstr.append(l1)\n",
        "    else:\n",
        "      newstr.append(str1[i])\n",
        "    \n",
        "  freq(newstr)\n",
        "  print(''.join(newstr))\n",
        "  return ''.join(newstr)"
      ],
      "metadata": {
        "id": "DosH-ZwKlacr"
      },
      "execution_count": null,
      "outputs": []
    },
    {
      "cell_type": "code",
      "source": [
        "freq(string)"
      ],
      "metadata": {
        "colab": {
          "base_uri": "https://localhost:8080/",
          "height": 268
        },
        "id": "q90AC92nlIGm",
        "outputId": "b2396b8b-4f18-4e90-c0e0-d3477ee47829"
      },
      "execution_count": null,
      "outputs": [
        {
          "output_type": "display_data",
          "data": {
            "text/plain": [
              "<Figure size 432x288 with 1 Axes>"
            ],
            "image/png": "[encoded data removed]"
          },
          "metadata": {
            "needs_background": "light"
          }
        }
      ]
    },
    {
      "cell_type": "code",
      "source": [
        "freq2(string)"
      ],
      "metadata": {
        "colab": {
          "base_uri": "https://localhost:8080/",
          "height": 265
        },
        "id": "qyx-_OiFvua-",
        "outputId": "078b22e9-3f38-4e4a-9112-6de0abe47d0e"
      },
      "execution_count": null,
      "outputs": [
        {
          "output_type": "display_data",
          "data": {
            "text/plain": [
              "<Figure size 432x288 with 1 Axes>"
            ],
            "image/png": "[encoded data removed]"
          },
          "metadata": {
            "needs_background": "light"
          }
        }
      ]
    },
    {
      "cell_type": "code",
      "source": [
        "freq3(string)"
      ],
      "metadata": {
        "colab": {
          "base_uri": "https://localhost:8080/",
          "height": 265
        },
        "id": "q8zvP7sor6Kk",
        "outputId": "6bb3beda-4f79-4c60-f098-1d4864eaa3d7"
      },
      "execution_count": null,
      "outputs": [
        {
          "output_type": "display_data",
          "data": {
            "text/plain": [
              "<Figure size 432x288 with 1 Axes>"
            ],
            "image/png": "[encoded data removed]"
          },
          "metadata": {
            "needs_background": "light"
          }
        }
      ]
    },
    {
      "cell_type": "code",
      "source": [
        "freq4(string)"
      ],
      "metadata": {
        "colab": {
          "base_uri": "https://localhost:8080/",
          "height": 265
        },
        "id": "DqIooUfpwfwA",
        "outputId": "26c0c986-0811-4a88-9a7d-64e590c6a5a9"
      },
      "execution_count": null,
      "outputs": [
        {
          "output_type": "display_data",
          "data": {
            "text/plain": [
              "<Figure size 432x288 with 1 Axes>"
            ],
            "image/png": "[encoded data removed]"
          },
          "metadata": {
            "needs_background": "light"
          }
        }
      ]
    },
    {
      "cell_type": "code",
      "source": [
        "# testing swaps \n",
        "swap(string, 'E', 'S')"
      ],
      "metadata": {
        "id": "8dABerxj3QlQ",
        "colab": {
          "base_uri": "https://localhost:8080/",
          "height": 376
        },
        "outputId": "9ea453cc-aa5c-4435-9ab2-50daf305312a"
      },
      "execution_count": null,
      "outputs": [
        {
          "output_type": "display_data",
          "data": {
            "text/plain": [
              "<Figure size 432x288 with 1 Axes>"
            ],
            "image/png": "[encoded data removed]"
          },
          "metadata": {
            "needs_background": "light"
          }
        },
        {
          "output_type": "stream",
          "name": "stdout",
          "text": [
            "HXLPCXJJEHXLPCXJJEHXLPHXOOUSVSLEFPXOUNPKSYFSOXHXCXJJEFXEYNCSFXXPRSKEPOEYWNPKEKENPHXOHNPEUYYJNFFJSQSVGJBCUOXPNKUOCXJJENFUXBYHOUNPWHNPEULEFOUSCEOHXONUXDSOUSGYYVSJSJRSVUSVFEBCSVXZJNYWEOOSEONJSHXOHNPEUJGHSEVNLNFUGXBLSVSHXLPUSVSLNOUJSOUSVSEVSPXJNCSNPOUSENVCXJJENJEZVENHCXJJERBOGXBJNKUOCEOCUEREOCXJJEEPHOUEOFQSVGYNWSEJXBFSCXJJEGXBWPXLHXORBOHXCEOFSEOREOFCXJJENLXPHSVEPHUSVSEYNCSRSKEPOXKSOVEOUSVFYSSDGCXJJEEPHLSPOXPFEGNPKOXUSVFSYZCXJJENPEHVSEJGFXVOXZLEGCXJJEHXCEOFSEOREOFHXCEOFSEOREOFEPHFXJSONJSFCXJJEHXREOFSEOCEOFZXVCXJJEGXBFSSCXJJEEFFUSCXBYHPOEPFLSVSNOUSVABSFONXPCXJJENOHNHPOJBCUJEOOSVLUNCULEGFUSDBONO\n"
          ]
        },
        {
          "output_type": "execute_result",
          "data": {
            "text/plain": [
              "'HXLPCXJJEHXLPCXJJEHXLPHXOOUSVSLEFPXOUNPKSYFSOXHXCXJJEFXEYNCSFXXPRSKEPOEYWNPKEKENPHXOHNPEUYYJNFFJSQSVGJBCUOXPNKUOCXJJENFUXBYHOUNPWHNPEULEFOUSCEOHXONUXDSOUSGYYVSJSJRSVUSVFEBCSVXZJNYWEOOSEONJSHXOHNPEUJGHSEVNLNFUGXBLSVSHXLPUSVSLNOUJSOUSVSEVSPXJNCSNPOUSENVCXJJENJEZVENHCXJJERBOGXBJNKUOCEOCUEREOCXJJEEPHOUEOFQSVGYNWSEJXBFSCXJJEGXBWPXLHXORBOHXCEOFSEOREOFCXJJENLXPHSVEPHUSVSEYNCSRSKEPOXKSOVEOUSVFYSSDGCXJJEEPHLSPOXPFEGNPKOXUSVFSYZCXJJENPEHVSEJGFXVOXZLEGCXJJEHXCEOFSEOREOFHXCEOFSEOREOFEPHFXJSONJSFCXJJEHXREOFSEOCEOFZXVCXJJEGXBFSSCXJJEEFFUSCXBYHPOEPFLSVSNOUSVABSFONXPCXJJENOHNHPOJBCUJEOOSVLUNCULEGFUSDBONO'"
            ],
            "application/vnd.google.colaboratory.intrinsic+json": {
              "type": "string"
            }
          },
          "metadata": {},
          "execution_count": 14
        }
      ]
    },
    {
      "cell_type": "code",
      "source": [
        "# brute force testing caeser cipher\n",
        "string \n",
        "print(ord('A')) \n",
        "print(ord('Z'))\n"
      ],
      "metadata": {
        "colab": {
          "base_uri": "https://localhost:8080/"
        },
        "id": "0mjzZyHC6GJ0",
        "outputId": "80ecb938-1af5-4f46-9d8f-21c3f6dd2f7a"
      },
      "execution_count": null,
      "outputs": [
        {
          "output_type": "stream",
          "name": "stdout",
          "text": [
            "65\n",
            "90\n"
          ]
        }
      ]
    },
    {
      "cell_type": "code",
      "source": [
        "# return a new string that shifts the given string by 1\n",
        "def shiftString(string):\n",
        "  newString = []\n",
        "  for i in range(len(string)):\n",
        "    newChar = ord(string[i]) + 1;\n",
        "    if (newChar > 90):\n",
        "      newChar = newChar - 26\n",
        "    newString.append(chr(newChar))\n",
        "  return newString"
      ],
      "metadata": {
        "id": "DNTz_min6_5N"
      },
      "execution_count": null,
      "outputs": []
    },
    {
      "cell_type": "code",
      "source": [
        "# Brute force all caesar strings\n",
        "testString = string\n",
        "for i in range(0, 26):\n",
        "  testString = shiftString(testString)\n",
        "  print(''.join(testString))\n",
        "# It is not a caesar cipher"
      ],
      "metadata": {
        "colab": {
          "base_uri": "https://localhost:8080/"
        },
        "id": "mNI51wGq71v3",
        "outputId": "d04e5b1d-7857-4c78-a905-9579785c6c52"
      },
      "execution_count": null,
      "outputs": [
        {
          "output_type": "stream",
          "name": "stdout",
          "text": [
            "IYMQDYKKTIYMQDYKKTIYMQIYPPVFWFMTGQYPVOQLFZGFPYIYDYKKTGYTZODFGYYQSFLTQPTZXOQLTLTOQIYPIOQTVZZKOGGKFRFWHKCDVPYQOLVPDYKKTOGVYCZIPVOQXIOQTVMTGPVFDTPIYPOVYEFPVFHZZWFKFKSFWVFWGTCDFWYAKOZXTPPFTPOKFIYPIOQTVKHIFTWOMOGVHYCMFWFIYMQVFWFMOPVKFPVFWFTWFQYKODFOQPVFTOWDYKKTOKTAWTOIDYKKTSCPHYCKOLVPDTPDVTSTPDYKKTTQIPVTPGRFWHZOXFTKYCGFDYKKTHYCXQYMIYPSCPIYDTPGFTPSTPGDYKKTOMYQIFWTQIVFWFTZODFSFLTQPYLFPWTPVFWGZFFEHDYKKTTQIMFQPYQGTHOQLPYVFWGFZADYKKTOQTIWFTKHGYWPYAMTHDYKKTIYDTPGFTPSTPGIYDTPGFTPSTPGTQIGYKFPOKFGDYKKTIYSTPGFTPDTPGAYWDYKKTHYCGFFDYKKTTGGVFDYCZIQPTQGMFWFOPVFWBCFGPOYQDYKKTOPIOIQPKCDVKTPPFWMVODVMTHGVFECPOP\n",
            "JZNREZLLUJZNREZLLUJZNRJZQQWGXGNUHRZQWPRMGAHGQZJZEZLLUHZUAPEGHZZRTGMURQUAYPRMUMUPRJZQJPRUWAALPHHLGSGXILDEWQZRPMWQEZLLUPHWZDAJQWPRYJPRUWNUHQWGEUQJZQPWZFGQWGIAAXGLGLTGXWGXHUDEGXZBLPAYUQQGUQPLGJZQJPRUWLIJGUXPNPHWIZDNGXGJZNRWGXGNPQWLGQWGXGUXGRZLPEGPRQWGUPXEZLLUPLUBXUPJEZLLUTDQIZDLPMWQEUQEWUTUQEZLLUURJQWUQHSGXIAPYGULZDHGEZLLUIZDYRZNJZQTDQJZEUQHGUQTUQHEZLLUPNZRJGXURJWGXGUAPEGTGMURQZMGQXUQWGXHAGGFIEZLLUURJNGRQZRHUIPRMQZWGXHGABEZLLUPRUJXGULIHZXQZBNUIEZLLUJZEUQHGUQTUQHJZEUQHGUQTUQHURJHZLGQPLGHEZLLUJZTUQHGUQEUQHBZXEZLLUIZDHGGEZLLUUHHWGEZDAJRQURHNGXGPQWGXCDGHQPZREZLLUPQJPJRQLDEWLUQQGXNWPEWNUIHWGFDQPQ\n",
            "KAOSFAMMVKAOSFAMMVKAOSKARRXHYHOVISARXQSNHBIHRAKAFAMMVIAVBQFHIAASUHNVSRVBZQSNVNVQSKARKQSVXBBMQIIMHTHYJMEFXRASQNXRFAMMVQIXAEBKRXQSZKQSVXOVIRXHFVRKARQXAGHRXHJBBYHMHMUHYXHYIVEFHYACMQBZVRRHVRQMHKARKQSVXMJKHVYQOQIXJAEOHYHKAOSXHYHOQRXMHRXHYHVYHSAMQFHQSRXHVQYFAMMVQMVCYVQKFAMMVUERJAEMQNXRFVRFXVUVRFAMMVVSKRXVRITHYJBQZHVMAEIHFAMMVJAEZSAOKARUERKAFVRIHVRUVRIFAMMVQOASKHYVSKXHYHVBQFHUHNVSRANHRYVRXHYIBHHGJFAMMVVSKOHSRASIVJQSNRAXHYIHBCFAMMVQSVKYHVMJIAYRACOVJFAMMVKAFVRIHVRUVRIKAFVRIHVRUVRIVSKIAMHRQMHIFAMMVKAUVRIHVRFVRICAYFAMMVJAEIHHFAMMVVIIXHFAEBKSRVSIOHYHQRXHYDEHIRQASFAMMVQRKQKSRMEFXMVRRHYOXQFXOVJIXHGERQR\n",
            "LBPTGBNNWLBPTGBNNWLBPTLBSSYIZIPWJTBSYRTOICJISBLBGBNNWJBWCRGIJBBTVIOWTSWCARTOWOWRTLBSLRTWYCCNRJJNIUIZKNFGYSBTROYSGBNNWRJYBFCLSYRTALRTWYPWJSYIGWSLBSRYBHISYIKCCZININVIZYIZJWFGIZBDNRCAWSSIWSRNILBSLRTWYNKLIWZRPRJYKBFPIZILBPTYIZIPRSYNISYIZIWZITBNRGIRTSYIWRZGBNNWRNWDZWRLGBNNWVFSKBFNROYSGWSGYWVWSGBNNWWTLSYWSJUIZKCRAIWNBFJIGBNNWKBFATBPLBSVFSLBGWSJIWSVWSJGBNNWRPBTLIZWTLYIZIWCRGIVIOWTSBOISZWSYIZJCIIHKGBNNWWTLPITSBTJWKRTOSBYIZJICDGBNNWRTWLZIWNKJBZSBDPWKGBNNWLBGWSJIWSVWSJLBGWSJIWSVWSJWTLJBNISRNIJGBNNWLBVWSJIWSGWSJDBZGBNNWKBFJIIGBNNWWJJYIGBFCLTSWTJPIZIRSYIZEFIJSRBTGBNNWRSLRLTSNFGYNWSSIZPYRGYPWKJYIHFSRS\n",
            "MCQUHCOOXMCQUHCOOXMCQUMCTTZJAJQXKUCTZSUPJDKJTCMCHCOOXKCXDSHJKCCUWJPXUTXDBSUPXPXSUMCTMSUXZDDOSKKOJVJALOGHZTCUSPZTHCOOXSKZCGDMTZSUBMSUXZQXKTZJHXTMCTSZCIJTZJLDDAJOJOWJAZJAKXGHJACEOSDBXTTJXTSOJMCTMSUXZOLMJXASQSKZLCGQJAJMCQUZJAJQSTZOJTZJAJXAJUCOSHJSUTZJXSAHCOOXSOXEAXSMHCOOXWGTLCGOSPZTHXTHZXWXTHCOOXXUMTZXTKVJALDSBJXOCGKJHCOOXLCGBUCQMCTWGTMCHXTKJXTWXTKHCOOXSQCUMJAXUMZJAJXDSHJWJPXUTCPJTAXTZJAKDJJILHCOOXXUMQJUTCUKXLSUPTCZJAKJDEHCOOXSUXMAJXOLKCATCEQXLHCOOXMCHXTKJXTWXTKMCHXTKJXTWXTKXUMKCOJTSOJKHCOOXMCWXTKJXTHXTKECAHCOOXLCGKJJHCOOXXKKZJHCGDMUTXUKQJAJSTZJAFGJKTSCUHCOOXSTMSMUTOGHZOXTTJAQZSHZQXLKZJIGTST\n",
            "NDRVIDPPYNDRVIDPPYNDRVNDUUAKBKRYLVDUATVQKELKUDNDIDPPYLDYETIKLDDVXKQYVUYECTVQYQYTVNDUNTVYAEEPTLLPKWKBMPHIAUDVTQAUIDPPYTLADHENUATVCNTVYARYLUAKIYUNDUTADJKUAKMEEBKPKPXKBAKBLYHIKBDFPTECYUUKYUTPKNDUNTVYAPMNKYBTRTLAMDHRKBKNDRVAKBKRTUAPKUAKBKYBKVDPTIKTVUAKYTBIDPPYTPYFBYTNIDPPYXHUMDHPTQAUIYUIAYXYUIDPPYYVNUAYULWKBMETCKYPDHLKIDPPYMDHCVDRNDUXHUNDIYULKYUXYULIDPPYTRDVNKBYVNAKBKYETIKXKQYVUDQKUBYUAKBLEKKJMIDPPYYVNRKVUDVLYMTVQUDAKBLKEFIDPPYTVYNBKYPMLDBUDFRYMIDPPYNDIYULKYUXYULNDIYULKYUXYULYVNLDPKUTPKLIDPPYNDXYULKYUIYULFDBIDPPYMDHLKKIDPPYYLLAKIDHENVUYVLRKBKTUAKBGHKLUTDVIDPPYTUNTNVUPHIAPYUUKBRATIARYMLAKJHUTU\n",
            "OESWJEQQZOESWJEQQZOESWOEVVBLCLSZMWEVBUWRLFMLVEOEJEQQZMEZFUJLMEEWYLRZWVZFDUWRZRZUWOEVOUWZBFFQUMMQLXLCNQIJBVEWURBVJEQQZUMBEIFOVBUWDOUWZBSZMVBLJZVOEVUBEKLVBLNFFCLQLQYLCBLCMZIJLCEGQUFDZVVLZVUQLOEVOUWZBQNOLZCUSUMBNEISLCLOESWBLCLSUVBQLVBLCLZCLWEQUJLUWVBLZUCJEQQZUQZGCZUOJEQQZYIVNEIQURBVJZVJBZYZVJEQQZZWOVBZVMXLCNFUDLZQEIMLJEQQZNEIDWESOEVYIVOEJZVMLZVYZVMJEQQZUSEWOLCZWOBLCLZFUJLYLRZWVERLVCZVBLCMFLLKNJEQQZZWOSLWVEWMZNUWRVEBLCMLFGJEQQZUWZOCLZQNMECVEGSZNJEQQZOEJZVMLZVYZVMOEJZVMLZVYZVMZWOMEQLVUQLMJEQQZOEYZVMLZVJZVMGECJEQQZNEIMLLJEQQZZMMBLJEIFOWVZWMSLCLUVBLCHILMVUEWJEQQZUVOUOWVQIJBQZVVLCSBUJBSZNMBLKIVUV\n",
            "PFTXKFRRAPFTXKFRRAPFTXPFWWCMDMTANXFWCVXSMGNMWFPFKFRRANFAGVKMNFFXZMSAXWAGEVXSASAVXPFWPVXACGGRVNNRMYMDORJKCWFXVSCWKFRRAVNCFJGPWCVXEPVXACTANWCMKAWPFWVCFLMWCMOGGDMRMRZMDCMDNAJKMDFHRVGEAWWMAWVRMPFWPVXACROPMADVTVNCOFJTMDMPFTXCMDMTVWCRMWCMDMADMXFRVKMVXWCMAVDKFRRAVRAHDAVPKFRRAZJWOFJRVSCWKAWKCAZAWKFRRAAXPWCAWNYMDOGVEMARFJNMKFRRAOFJEXFTPFWZJWPFKAWNMAWZAWNKFRRAVTFXPMDAXPCMDMAGVKMZMSAXWFSMWDAWCMDNGMMLOKFRRAAXPTMXWFXNAOVXSWFCMDNMGHKFRRAVXAPDMARONFDWFHTAOKFRRAPFKAWNMAWZAWNPFKAWNMAWZAWNAXPNFRMWVRMNKFRRAPFZAWNMAWKAWNHFDKFRRAOFJNMMKFRRAANNCMKFJGPXWAXNTMDMVWCMDIJMNWVFXKFRRAVWPVPXWRJKCRAWWMDTCVKCTAONCMLJWVW\n",
            "QGUYLGSSBQGUYLGSSBQGUYQGXXDNENUBOYGXDWYTNHONXGQGLGSSBOGBHWLNOGGYANTBYXBHFWYTBTBWYQGXQWYBDHHSWOOSNZNEPSKLDXGYWTDXLGSSBWODGKHQXDWYFQWYBDUBOXDNLBXQGXWDGMNXDNPHHENSNSANEDNEOBKLNEGISWHFBXXNBXWSNQGXQWYBDSPQNBEWUWODPGKUNENQGUYDNENUWXDSNXDNENBENYGSWLNWYXDNBWELGSSBWSBIEBWQLGSSBAKXPGKSWTDXLBXLDBABXLGSSBBYQXDBXOZNEPHWFNBSGKONLGSSBPGKFYGUQGXAKXQGLBXONBXABXOLGSSBWUGYQNEBYQDNENBHWLNANTBYXGTNXEBXDNEOHNNMPLGSSBBYQUNYXGYOBPWYTXGDNEONHILGSSBWYBQENBSPOGEXGIUBPLGSSBQGLBXONBXABXOQGLBXONBXABXOBYQOGSNXWSNOLGSSBQGABXONBXLBXOIGELGSSBPGKONNLGSSBBOODNLGKHQYXBYOUNENWXDNEJKNOXWGYLGSSBWXQWQYXSKLDSBXXNEUDWLDUBPODNMKXWX\n",
            "RHVZMHTTCRHVZMHTTCRHVZRHYYEOFOVCPZHYEXZUOIPOYHRHMHTTCPHCIXMOPHHZBOUCZYCIGXZUCUCXZRHYRXZCEIITXPPTOAOFQTLMEYHZXUEYMHTTCXPEHLIRYEXZGRXZCEVCPYEOMCYRHYXEHNOYEOQIIFOTOTBOFEOFPCLMOFHJTXIGCYYOCYXTORHYRXZCETQROCFXVXPEQHLVOFORHVZEOFOVXYETOYEOFOCFOZHTXMOXZYEOCXFMHTTCXTCJFCXRMHTTCBLYQHLTXUEYMCYMECBCYMHTTCCZRYECYPAOFQIXGOCTHLPOMHTTCQHLGZHVRHYBLYRHMCYPOCYBCYPMHTTCXVHZROFCZREOFOCIXMOBOUCZYHUOYFCYEOFPIOONQMHTTCCZRVOZYHZPCQXZUYHEOFPOIJMHTTCXZCRFOCTQPHFYHJVCQMHTTCRHMCYPOCYBCYPRHMCYPOCYBCYPCZRPHTOYXTOPMHTTCRHBCYPOCYMCYPJHFMHTTCQHLPOOMHTTCCPPEOMHLIRZYCZPVOFOXYEOFKLOPYXHZMHTTCXYRXRZYTLMETCYYOFVEXMEVCQPEONLYXY\n",
            "SIWANIUUDSIWANIUUDSIWASIZZFPGPWDQAIZFYAVPJQPZISINIUUDQIDJYNPQIIACPVDAZDJHYAVDVDYASIZSYADFJJUYQQUPBPGRUMNFZIAYVFZNIUUDYQFIMJSZFYAHSYADFWDQZFPNDZSIZYFIOPZFPRJJGPUPUCPGFPGQDMNPGIKUYJHDZZPDZYUPSIZSYADFURSPDGYWYQFRIMWPGPSIWAFPGPWYZFUPZFPGPDGPAIUYNPYAZFPDYGNIUUDYUDKGDYSNIUUDCMZRIMUYVFZNDZNFDCDZNIUUDDASZFDZQBPGRJYHPDUIMQPNIUUDRIMHAIWSIZCMZSINDZQPDZCDZQNIUUDYWIASPGDASFPGPDJYNPCPVDAZIVPZGDZFPGQJPPORNIUUDDASWPAZIAQDRYAVZIFPGQPJKNIUUDYADSGPDURQIGZIKWDRNIUUDSINDZQPDZCDZQSINDZQPDZCDZQDASQIUPZYUPQNIUUDSICDZQPDZNDZQKIGNIUUDRIMQPPNIUUDDQQFPNIMJSAZDAQWPGPYZFPGLMPQZYIANIUUDYZSYSAZUMNFUDZZPGWFYNFWDRQFPOMZYZ\n",
            "TJXBOJVVETJXBOJVVETJXBTJAAGQHQXERBJAGZBWQKRQAJTJOJVVERJEKZOQRJJBDQWEBAEKIZBWEWEZBTJATZBEGKKVZRRVQCQHSVNOGAJBZWGAOJVVEZRGJNKTAGZBITZBEGXERAGQOEATJAZGJPQAGQSKKHQVQVDQHGQHRENOQHJLVZKIEAAQEAZVQTJATZBEGVSTQEHZXZRGSJNXQHQTJXBGQHQXZAGVQAGQHQEHQBJVZOQZBAGQEZHOJVVEZVELHEZTOJVVEDNASJNVZWGAOEAOGEDEAOJVVEEBTAGEARCQHSKZIQEVJNRQOJVVESJNIBJXTJADNATJOEARQEADEAROJVVEZXJBTQHEBTGQHQEKZOQDQWEBAJWQAHEAGQHRKQQPSOJVVEEBTXQBAJBRESZBWAJGQHRQKLOJVVEZBETHQEVSRJHAJLXESOJVVETJOEARQEADEARTJOEARQEADEAREBTRJVQAZVQROJVVETJDEARQEAOEARLJHOJVVESJNRQQOJVVEERRGQOJNKTBAEBRXQHQZAGQHMNQRAZJBOJVVEZATZTBAVNOGVEAAQHXGZOGXESRGQPNAZA\n",
            "UKYCPKWWFUKYCPKWWFUKYCUKBBHRIRYFSCKBHACXRLSRBKUKPKWWFSKFLAPRSKKCERXFCBFLJACXFXFACUKBUACFHLLWASSWRDRITWOPHBKCAXHBPKWWFASHKOLUBHACJUACFHYFSBHRPFBUKBAHKQRBHRTLLIRWRWERIHRISFOPRIKMWALJFBBRFBAWRUKBUACFHWTURFIAYASHTKOYRIRUKYCHRIRYABHWRBHRIRFIRCKWAPRACBHRFAIPKWWFAWFMIFAUPKWWFEOBTKOWAXHBPFBPHFEFBPKWWFFCUBHFBSDRITLAJRFWKOSRPKWWFTKOJCKYUKBEOBUKPFBSRFBEFBSPKWWFAYKCURIFCUHRIRFLAPRERXFCBKXRBIFBHRISLRRQTPKWWFFCUYRCBKCSFTACXBKHRISRLMPKWWFACFUIRFWTSKIBKMYFTPKWWFUKPFBSRFBEFBSUKPFBSRFBEFBSFCUSKWRBAWRSPKWWFUKEFBSRFBPFBSMKIPKWWFTKOSRRPKWWFFSSHRPKOLUCBFCSYRIRABHRINORSBAKCPKWWFABUAUCBWOPHWFBBRIYHAPHYFTSHRQOBAB\n",
            "VLZDQLXXGVLZDQLXXGVLZDVLCCISJSZGTDLCIBDYSMTSCLVLQLXXGTLGMBQSTLLDFSYGDCGMKBDYGYGBDVLCVBDGIMMXBTTXSESJUXPQICLDBYICQLXXGBTILPMVCIBDKVBDGIZGTCISQGCVLCBILRSCISUMMJSXSXFSJISJTGPQSJLNXBMKGCCSGCBXSVLCVBDGIXUVSGJBZBTIULPZSJSVLZDISJSZBCIXSCISJSGJSDLXBQSBDCISGBJQLXXGBXGNJGBVQLXXGFPCULPXBYICQGCQIGFGCQLXXGGDVCIGCTESJUMBKSGXLPTSQLXXGULPKDLZVLCFPCVLQGCTSGCFGCTQLXXGBZLDVSJGDVISJSGMBQSFSYGDCLYSCJGCISJTMSSRUQLXXGGDVZSDCLDTGUBDYCLISJTSMNQLXXGBDGVJSGXUTLJCLNZGUQLXXGVLQGCTSGCFGCTVLQGCTSGCFGCTGDVTLXSCBXSTQLXXGVLFGCTSGCQGCTNLJQLXXGULPTSSQLXXGGTTISQLPMVDCGDTZSJSBCISJOPSTCBLDQLXXGBCVBVDCXPQIXGCCSJZIBQIZGUTISRPCBC\n",
            "WMAERMYYHWMAERMYYHWMAEWMDDJTKTAHUEMDJCEZTNUTDMWMRMYYHUMHNCRTUMMEGTZHEDHNLCEZHZHCEWMDWCEHJNNYCUUYTFTKVYQRJDMECZJDRMYYHCUJMQNWDJCELWCEHJAHUDJTRHDWMDCJMSTDJTVNNKTYTYGTKJTKUHQRTKMOYCNLHDDTHDCYTWMDWCEHJYVWTHKCACUJVMQATKTWMAEJTKTACDJYTDJTKTHKTEMYCRTCEDJTHCKRMYYHCYHOKHCWRMYYHGQDVMQYCZJDRHDRJHGHDRMYYHHEWDJHDUFTKVNCLTHYMQUTRMYYHVMQLEMAWMDGQDWMRHDUTHDGHDURMYYHCAMEWTKHEWJTKTHNCRTGTZHEDMZTDKHDJTKUNTTSVRMYYHHEWATEDMEUHVCEZDMJTKUTNORMYYHCEHWKTHYVUMKDMOAHVRMYYHWMRHDUTHDGHDUWMRHDUTHDGHDUHEWUMYTDCYTURMYYHWMGHDUTHDRHDUOMKRMYYHVMQUTTRMYYHHUUJTRMQNWEDHEUATKTCDJTKPQTUDCMERMYYHCDWCWEDYQRJYHDDTKAJCRJAHVUJTSQDCD\n",
            "XNBFSNZZIXNBFSNZZIXNBFXNEEKULUBIVFNEKDFAUOVUENXNSNZZIVNIODSUVNNFHUAIFEIOMDFAIAIDFXNEXDFIKOOZDVVZUGULWZRSKENFDAKESNZZIDVKNROXEKDFMXDFIKBIVEKUSIEXNEDKNTUEKUWOOLUZUZHULKULVIRSULNPZDOMIEEUIEDZUXNEXDFIKZWXUILDBDVKWNRBULUXNBFKULUBDEKZUEKULUILUFNZDSUDFEKUIDLSNZZIDZIPLIDXSNZZIHREWNRZDAKESIESKIHIESNZZIIFXEKIEVGULWODMUIZNRVUSNZZIWNRMFNBXNEHREXNSIEVUIEHIEVSNZZIDBNFXULIFXKULUIODSUHUAIFENAUELIEKULVOUUTWSNZZIIFXBUFENFVIWDFAENKULVUOPSNZZIDFIXLUIZWVNLENPBIWSNZZIXNSIEVUIEHIEVXNSIEVUIEHIEVIFXVNZUEDZUVSNZZIXNHIEVUIESIEVPNLSNZZIWNRVUUSNZZIIVVKUSNROXFEIFVBULUDEKULQRUVEDNFSNZZIDEXDXFEZRSKZIEEULBKDSKBIWVKUTREDE\n",
            "YOCGTOAAJYOCGTOAAJYOCGYOFFLVMVCJWGOFLEGBVPWVFOYOTOAAJWOJPETVWOOGIVBJGFJPNEGBJBJEGYOFYEGJLPPAEWWAVHVMXASTLFOGEBLFTOAAJEWLOSPYFLEGNYEGJLCJWFLVTJFYOFELOUVFLVXPPMVAVAIVMLVMWJSTVMOQAEPNJFFVJFEAVYOFYEGJLAXYVJMECEWLXOSCVMVYOCGLVMVCEFLAVFLVMVJMVGOAETVEGFLVJEMTOAAJEAJQMJEYTOAAJISFXOSAEBLFTJFTLJIJFTOAAJJGYFLJFWHVMXPENVJAOSWVTOAAJXOSNGOCYOFISFYOTJFWVJFIJFWTOAAJECOGYVMJGYLVMVJPETVIVBJGFOBVFMJFLVMWPVVUXTOAAJJGYCVGFOGWJXEGBFOLVMWVPQTOAAJEGJYMVJAXWOMFOQCJXTOAAJYOTJFWVJFIJFWYOTJFWVJFIJFWJGYWOAVFEAVWTOAAJYOIJFWVJFTJFWQOMTOAAJXOSWVVTOAAJJWWLVTOSPYGFJGWCVMVEFLVMRSVWFEOGTOAAJEFYEYGFASTLAJFFVMCLETLCJXWLVUSFEF\n",
            "ZPDHUPBBKZPDHUPBBKZPDHZPGGMWNWDKXHPGMFHCWQXWGPZPUPBBKXPKQFUWXPPHJWCKHGKQOFHCKCKFHZPGZFHKMQQBFXXBWIWNYBTUMGPHFCMGUPBBKFXMPTQZGMFHOZFHKMDKXGMWUKGZPGFMPVWGMWYQQNWBWBJWNMWNXKTUWNPRBFQOKGGWKGFBWZPGZFHKMBYZWKNFDFXMYPTDWNWZPDHMWNWDFGMBWGMWNWKNWHPBFUWFHGMWKFNUPBBKFBKRNKFZUPBBKJTGYPTBFCMGUKGUMKJKGUPBBKKHZGMKGXIWNYQFOWKBPTXWUPBBKYPTOHPDZPGJTGZPUKGXWKGJKGXUPBBKFDPHZWNKHZMWNWKQFUWJWCKHGPCWGNKGMWNXQWWVYUPBBKKHZDWHGPHXKYFHCGPMWNXWQRUPBBKFHKZNWKBYXPNGPRDKYUPBBKZPUKGXWKGJKGXZPUKGXWKGJKGXKHZXPBWGFBWXUPBBKZPJKGXWKGUKGXRPNUPBBKYPTXWWUPBBKKXXMWUPTQZHGKHXDWNWFGMWNSTWXGFPHUPBBKFGZFZHGBTUMBKGGWNDMFUMDKYXMWVTGFG\n",
            "AQEIVQCCLAQEIVQCCLAQEIAQHHNXOXELYIQHNGIDXRYXHQAQVQCCLYQLRGVXYQQIKXDLIHLRPGIDLDLGIAQHAGILNRRCGYYCXJXOZCUVNHQIGDNHVQCCLGYNQURAHNGIPAGILNELYHNXVLHAQHGNQWXHNXZRROXCXCKXONXOYLUVXOQSCGRPLHHXLHGCXAQHAGILNCZAXLOGEGYNZQUEXOXAQEINXOXEGHNCXHNXOXLOXIQCGVXGIHNXLGOVQCCLGCLSOLGAVQCCLKUHZQUCGDNHVLHVNLKLHVQCCLLIAHNLHYJXOZRGPXLCQUYXVQCCLZQUPIQEAQHKUHAQVLHYXLHKLHYVQCCLGEQIAXOLIANXOXLRGVXKXDLIHQDXHOLHNXOYRXXWZVQCCLLIAEXIHQIYLZGIDHQNXOYXRSVQCCLGILAOXLCZYQOHQSELZVQCCLAQVLHYXLHKLHYAQVLHYXLHKLHYLIAYQCXHGCXYVQCCLAQKLHYXLHVLHYSQOVQCCLZQUYXXVQCCLLYYNXVQURAIHLIYEXOXGHNXOTUXYHGQIVQCCLGHAGAIHCUVNCLHHXOENGVNELZYNXWUHGH\n",
            "BRFJWRDDMBRFJWRDDMBRFJBRIIOYPYFMZJRIOHJEYSZYIRBRWRDDMZRMSHWYZRRJLYEMJIMSQHJEMEMHJBRIBHJMOSSDHZZDYKYPADVWOIRJHEOIWRDDMHZORVSBIOHJQBHJMOFMZIOYWMIBRIHORXYIOYASSPYDYDLYPOYPZMVWYPRTDHSQMIIYMIHDYBRIBHJMODABYMPHFHZOARVFYPYBRFJOYPYFHIODYIOYPYMPYJRDHWYHJIOYMHPWRDDMHDMTPMHBWRDDMLVIARVDHEOIWMIWOMLMIWRDDMMJBIOMIZKYPASHQYMDRVZYWRDDMARVQJRFBRILVIBRWMIZYMILMIZWRDDMHFRJBYPMJBOYPYMSHWYLYEMJIREYIPMIOYPZSYYXAWRDDMMJBFYJIRJZMAHJEIROYPZYSTWRDDMHJMBPYMDAZRPIRTFMAWRDDMBRWMIZYMILMIZBRWMIZYMILMIZMJBZRDYIHDYZWRDDMBRLMIZYMIWMIZTRPWRDDMARVZYYWRDDMMZZOYWRVSBJIMJZFYPYHIOYPUVYZIHRJWRDDMHIBHBJIDVWODMIIYPFOHWOFMAZOYXVIHI\n",
            "CSGKXSEENCSGKXSEENCSGKCSJJPZQZGNAKSJPIKFZTAZJSCSXSEENASNTIXZASSKMZFNKJNTRIKFNFNIKCSJCIKNPTTEIAAEZLZQBEWXPJSKIFPJXSEENIAPSWTCJPIKRCIKNPGNAJPZXNJCSJIPSYZJPZBTTQZEZEMZQPZQANWXZQSUEITRNJJZNJIEZCSJCIKNPEBCZNQIGIAPBSWGZQZCSGKPZQZGIJPEZJPZQZNQZKSEIXZIKJPZNIQXSEENIENUQNICXSEENMWJBSWEIFPJXNJXPNMNJXSEENNKCJPNJALZQBTIRZNESWAZXSEENBSWRKSGCSJMWJCSXNJAZNJMNJAXSEENIGSKCZQNKCPZQZNTIXZMZFNKJSFZJQNJPZQATZZYBXSEENNKCGZKJSKANBIKFJSPZQAZTUXSEENIKNCQZNEBASQJSUGNBXSEENCSXNJAZNJMNJACSXNJAZNJMNJANKCASEZJIEZAXSEENCSMNJAZNJXNJAUSQXSEENBSWAZZXSEENNAAPZXSWTCKJNKAGZQZIJPZQVWZAJISKXSEENIJCICKJEWXPENJJZQGPIXPGNBAPZYWJIJ\n",
            "DTHLYTFFODTHLYTFFODTHLDTKKQARAHOBLTKQJLGAUBAKTDTYTFFOBTOUJYABTTLNAGOLKOUSJLGOGOJLDTKDJLOQUUFJBBFAMARCFXYQKTLJGQKYTFFOJBQTXUDKQJLSDJLOQHOBKQAYOKDTKJQTZAKQACUURAFAFNARQARBOXYARTVFJUSOKKAOKJFADTKDJLOQFCDAORJHJBQCTXHARADTHLQARAHJKQFAKQARAORALTFJYAJLKQAOJRYTFFOJFOVROJDYTFFONXKCTXFJGQKYOKYQONOKYTFFOOLDKQOKBMARCUJSAOFTXBAYTFFOCTXSLTHDTKNXKDTYOKBAOKNOKBYTFFOJHTLDAROLDQARAOUJYANAGOLKTGAKROKQARBUAAZCYTFFOOLDHALKTLBOCJLGKTQARBAUVYTFFOJLODRAOFCBTRKTVHOCYTFFODTYOKBAOKNOKBDTYOKBAOKNOKBOLDBTFAKJFABYTFFODTNOKBAOKYOKBVTRYTFFOCTXBAAYTFFOOBBQAYTXUDLKOLBHARAJKQARWXABKJTLYTFFOJKDJDLKFXYQFOKKARHQJYQHOCBQAZXKJK\n",
            "EUIMZUGGPEUIMZUGGPEUIMEULLRBSBIPCMULRKMHBVCBLUEUZUGGPCUPVKZBCUUMOBHPMLPVTKMHPHPKMEULEKMPRVVGKCCGBNBSDGYZRLUMKHRLZUGGPKCRUYVELRKMTEKMPRIPCLRBZPLEULKRUABLRBDVVSBGBGOBSRBSCPYZBSUWGKVTPLLBPLKGBEULEKMPRGDEBPSKIKCRDUYIBSBEUIMRBSBIKLRGBLRBSBPSBMUGKZBKMLRBPKSZUGGPKGPWSPKEZUGGPOYLDUYGKHRLZPLZRPOPLZUGGPPMELRPLCNBSDVKTBPGUYCBZUGGPDUYTMUIEULOYLEUZPLCBPLOPLCZUGGPKIUMEBSPMERBSBPVKZBOBHPMLUHBLSPLRBSCVBBADZUGGPPMEIBMLUMCPDKMHLURBSCBVWZUGGPKMPESBPGDCUSLUWIPDZUGGPEUZPLCBPLOPLCEUZPLCBPLOPLCPMECUGBLKGBCZUGGPEUOPLCBPLZPLCWUSZUGGPDUYCBBZUGGPPCCRBZUYVEMLPMCIBSBKLRBSXYBCLKUMZUGGPKLEKEMLGYZRGPLLBSIRKZRIPDCRBAYLKL\n",
            "FVJNAVHHQFVJNAVHHQFVJNFVMMSCTCJQDNVMSLNICWDCMVFVAVHHQDVQWLACDVVNPCIQNMQWULNIQIQLNFVMFLNQSWWHLDDHCOCTEHZASMVNLISMAVHHQLDSVZWFMSLNUFLNQSJQDMSCAQMFVMLSVBCMSCEWWTCHCHPCTSCTDQZACTVXHLWUQMMCQMLHCFVMFLNQSHEFCQTLJLDSEVZJCTCFVJNSCTCJLMSHCMSCTCQTCNVHLACLNMSCQLTAVHHQLHQXTQLFAVHHQPZMEVZHLISMAQMASQPQMAVHHQQNFMSQMDOCTEWLUCQHVZDCAVHHQEVZUNVJFVMPZMFVAQMDCQMPQMDAVHHQLJVNFCTQNFSCTCQWLACPCIQNMVICMTQMSCTDWCCBEAVHHQQNFJCNMVNDQELNIMVSCTDCWXAVHHQLNQFTCQHEDVTMVXJQEAVHHQFVAQMDCQMPQMDFVAQMDCQMPQMDQNFDVHCMLHCDAVHHQFVPQMDCQMAQMDXVTAVHHQEVZDCCAVHHQQDDSCAVZWFNMQNDJCTCLMSCTYZCDMLVNAVHHQLMFLFNMHZASHQMMCTJSLASJQEDSCBZMLM\n",
            "GWKOBWIIRGWKOBWIIRGWKOGWNNTDUDKREOWNTMOJDXEDNWGWBWIIREWRXMBDEWWOQDJRONRXVMOJRJRMOGWNGMORTXXIMEEIDPDUFIABTNWOMJTNBWIIRMETWAXGNTMOVGMORTKRENTDBRNGWNMTWCDNTDFXXUDIDIQDUTDUERABDUWYIMXVRNNDRNMIDGWNGMORTIFGDRUMKMETFWAKDUDGWKOTDUDKMNTIDNTDUDRUDOWIMBDMONTDRMUBWIIRMIRYURMGBWIIRQANFWAIMJTNBRNBTRQRNBWIIRROGNTRNEPDUFXMVDRIWAEDBWIIRFWAVOWKGWNQANGWBRNEDRNQRNEBWIIRMKWOGDUROGTDUDRXMBDQDJRONWJDNURNTDUEXDDCFBWIIRROGKDONWOERFMOJNWTDUEDXYBWIIRMORGUDRIFEWUNWYKRFBWIIRGWBRNEDRNQRNEGWBRNEDRNQRNEROGEWIDNMIDEBWIIRGWQRNEDRNBRNEYWUBWIIRFWAEDDBWIIRREETDBWAXGONROEKDUDMNTDUZADENMWOBWIIRMNGMGONIABTIRNNDUKTMBTKRFETDCANMN\n",
            "HXLPCXJJSHXLPCXJJSHXLPHXOOUEVELSFPXOUNPKEYFEOXHXCXJJSFXSYNCEFXXPREKSPOSYWNPKSKSNPHXOHNPSUYYJNFFJEQEVGJBCUOXPNKUOCXJJSNFUXBYHOUNPWHNPSULSFOUECSOHXONUXDEOUEGYYVEJEJREVUEVFSBCEVXZJNYWSOOESONJEHXOHNPSUJGHESVNLNFUGXBLEVEHXLPUEVELNOUJEOUEVESVEPXJNCENPOUESNVCXJJSNJSZVSNHCXJJSRBOGXBJNKUOCSOCUSRSOCXJJSSPHOUSOFQEVGYNWESJXBFECXJJSGXBWPXLHXORBOHXCSOFESORSOFCXJJSNLXPHEVSPHUEVESYNCEREKSPOXKEOVSOUEVFYEEDGCXJJSSPHLEPOXPFSGNPKOXUEVFEYZCXJJSNPSHVESJGFXVOXZLSGCXJJSHXCSOFESORSOFHXCSOFESORSOFSPHFXJEONJEFCXJJSHXRSOFESOCSOFZXVCXJJSGXBFEECXJJSSFFUECXBYHPOSPFLEVENOUEVABEFONXPCXJJSNOHNHPOJBCUJSOOEVLUNCULSGFUEDBONO\n"
          ]
        }
      ]
    },
    {
      "cell_type": "code",
      "source": [
        "# Turns all locations of where a specific letter in found in the first string into the solved letter in the second string (returns a new string)\n",
        "def solveLetter(ciphertext, solvingtext, let1, let2):\n",
        "  newString = []\n",
        "  for i in range(len(string)):\n",
        "    if (ciphertext[i] == let1):\n",
        "      newString.append(let2)\n",
        "    else:\n",
        "      newString.append(solvingtext[i])\n",
        "    \n",
        "  return newString"
      ],
      "metadata": {
        "id": "Tjq0N0b48-l8"
      },
      "execution_count": null,
      "outputs": []
    },
    {
      "cell_type": "code",
      "source": [
        "# using solveLetter to test various combinations\n",
        "workingString = []\n",
        "for i in range(len(string)):\n",
        "  workingString.append(' ')\n",
        "print(string)\n",
        "workingString = solveLetter(string, workingString, 'C', 'C')\n",
        "print(''.join(workingString))\n",
        "workingString = solveLetter(string, workingString, 'X', 'O')\n",
        "print(''.join(workingString))\n",
        "workingString = solveLetter(string, workingString, 'J', 'M')\n",
        "print(''.join(workingString))\n",
        "workingString = solveLetter(string, workingString, 'S', 'A')\n",
        "print(''.join(workingString))\n",
        "workingString = solveLetter(string, workingString, 'N', 'E')\n",
        "print(''.join(workingString))\n",
        "workingString = solveLetter(string, workingString, 'O', 'T')\n",
        "print(''.join(workingString))\n",
        "workingString = solveLetter(string, workingString, 'U', 'H')\n",
        "print(''.join(workingString))\n",
        "workingString = solveLetter(string, workingString, 'E', 'E')\n",
        "print(''.join(workingString))\n",
        "#workingString = solveLetter(string, workingString, 'H', 'N')\n",
        "print(''.join(workingString))\n",
        "workingString = solveLetter(string, workingString, 'P', 'N')\n",
        "print(''.join(workingString))"
      ],
      "metadata": {
        "colab": {
          "base_uri": "https://localhost:8080/"
        },
        "id": "wdTVYhO7-5oB",
        "outputId": "e944a431-ff2c-4d95-ccb5-481c4de0478a"
      },
      "execution_count": null,
      "outputs": [
        {
          "output_type": "stream",
          "name": "stdout",
          "text": [
            "HXLPCXJJSHXLPCXJJSHXLPHXOOUEVELSFPXOUNPKEYFEOXHXCXJJSFXSYNCEFXXPREKSPOSYWNPKSKSNPHXOHNPSUYYJNFFJEQEVGJBCUOXPNKUOCXJJSNFUXBYHOUNPWHNPSULSFOUECSOHXONUXDEOUEGYYVEJEJREVUEVFSBCEVXZJNYWSOOESONJEHXOHNPSUJGHESVNLNFUGXBLEVEHXLPUEVELNOUJEOUEVESVEPXJNCENPOUESNVCXJJSNJSZVSNHCXJJSRBOGXBJNKUOCSOCUSRSOCXJJSSPHOUSOFQEVGYNWESJXBFECXJJSGXBWPXLHXORBOHXCSOFESORSOFCXJJSNLXPHEVSPHUEVESYNCEREKSPOXKEOVSOUEVFYEEDGCXJJSSPHLEPOXPFSGNPKOXUEVFEYZCXJJSNPSHVESJGFXVOXZLSGCXJJSHXCSOFESORSOFHXCSOFESORSOFSPHFXJEONJEFCXJJSHXRSOFESOCSOFZXVCXJJSGXBFEECXJJSSFFUECXBYHPOSPFLEVENOUEVABEFONXPCXJJSNOHNHPOJBCUJSOOEVLUNCULSGFUEDBONO\n",
            "    C        C                                  C         C                                            C        C                           C                              C                                                                     C         C            C               C  C     C                          C                   C          C                     C                       C                            C                      C      C            C                      C             C      C          C         C                          C             C          C            \n",
            " O  CO    O  CO    O   O          O          O OCO    O   C  OO                   O                    C  O     CO      O                   C   O   O                      C  O               O                  O      O                     O  C         CO           CO       O      C  C     CO                     O   CO    O   O  O     OC          CO     O              C       O               CO          O        O       CO             O  O    CO    OC           OC              O       CO    O       C    O CO    O    CO        CO                       O CO            C          C            \n",
            " O  COMM  O  COMM  O   O          O          O OCOMM  O   C  OO                   O        M   M     M C  O     COMM    O                   C   O   O          M M         C  O M          M  O      M           O      O          M          OM C         COMM  M      COMM     O M    C  C     COMM                  MO   COMM  O   O  O     OC          COMM   O              C       O               COMM        O        O       COMM        M  O  O    COMM  OC           OC              OM   M  COMM  O       C    O COMM  O    COMM      CO                       O COMM        M C M        C            \n",
            " O  COMMA O  COMMA O   O       A  O          O OCOMMA OA  C  OO    A  A     A A   O    A   M   M     M C  O     COMMA   O           A  A    CA  O   O          M M       A C  O M   A   A  M  O    A M   A       O      O          M      A   OM C      A  COMMA MA  A  COMMA    O M    CA C A A COMMAA    A          AMO   COMMA O   O  O     OCA   A  A  COMMA  O    A      A  C    A  O    A          COMMAA      O  A     O       COMMA  A   AM  O  O  A COMMA OCA   A  A   OCA   A  A  A   OM   M  COMMA O A   A CA   O COMMA O    COMMAA    CO     A                 O COMMA       M C MA       C  A         \n",
            " O  COMMA O  COMMA O   O       A  O  E       O OCOMMA OA EC  OO    A  A  E  A AE  O  E A   ME  M     M C  O E   COMMAE  O     E   E A  A    CA  O E O          M M       A C  O ME  A   A EM  O  E A M   A E E   O      O       E  M      A   OMEC E    AE COMMAEMA  AE COMMA    O ME   CA C A A COMMAA    A       E  AMO   COMMA O   O  O     OCA   A  A  COMMAE O    A      A EC    A  O    A          COMMAA      O  A E   O       COMMAE A   AM  O  O  A COMMA OCA   A  A   OCA   A  A  A   OM  EM  COMMA O A   A CA   O COMMA O    COMMAA    CO     A      E         EO COMMAE  E   M C MA      EC  A       E \n",
            " O  COMMA O  COMMA O   OTT     A  OT E      TO OCOMMA OA EC  OO    A TA  E  A AE  OT E A   ME  M     M C TO E  TCOMMAE  O   T E   E A  A T  CAT OTE O  T       M M       A C  O ME  ATT ATEM  OT E A M   A E E   O      O       ET M T    A   OMEC E T  AE COMMAEMA  AE COMMA  T O ME  TCATC A ATCOMMAA  T AT      E  AMO   COMMA O   O  OT  T OCAT  AT AT COMMAE O    A      A EC    A TO  T AT         COMMAA     TO  A E  TO       COMMAE A   AM  O TO  A COMMA OCAT  AT AT  OCAT  AT AT A   OM TEM  COMMA O AT  ATCAT  O COMMA O    COMMAA    CO    TA      ET       TEO COMMAET E  TM C MATT    EC  A      TET\n",
            " O  COMMA O  COMMA O   OTTH    A  OTHE      TO OCOMMA OA EC  OO    A TA  E  A AE  OT E AH  ME  M     M CHTO E HTCOMMAE HO   THE   E AH A TH CAT OTEHO  TH      M M   H   A C  O ME  ATT ATEM  OT E AHM   A E E H O      O  H    ETHM TH   A   OMEC E TH AE COMMAEMA  AE COMMA  T O ME HTCATCHA ATCOMMAA  THAT      E  AMO   COMMA O   O  OT  T OCAT  AT AT COMMAE O    A  H   A EC    A TO  T ATH        COMMAA     TO  A E  TOH      COMMAE A   AM  O TO  A COMMA OCAT  AT AT  OCAT  AT AT A   OM TEM  COMMA O AT  ATCAT  O COMMA O    COMMAA  H CO    TA      ETH      TEO COMMAET E  TM CHMATT   HECH A  H   TET\n",
            " O  COMMA O  COMMA O   OTTHE E A  OTHE  E  ETO OCOMMA OA ECE OO  E A TA  E  A AE  OT E AH  ME  ME E  M CHTO E HTCOMMAE HO   THE   E AH A THECAT OTEHO ETHE    EMEM E HE  A CE O ME  ATTEATEME OT E AHM  EA E E H O  E E O  HE E ETHMETHE EA E OMECEE THEAE COMMAEMA  AE COMMA  T O ME HTCATCHA ATCOMMAA  THAT  E   E EAMO  ECOMMA O   O  OT  T OCAT EAT AT COMMAE O  E A  HE EA ECE E A TO ET ATHE   EE  COMMAA   E TO  A E  TOHE  E  COMMAE A  EAM  O TO  A COMMA OCAT EAT AT  OCAT EAT AT A   OMETEME COMMA O AT EATCAT  O COMMA O  EECOMMAA  HECO    TA   E EETHE   E TEO COMMAET E  TM CHMATTE  HECH A  HE  TET\n",
            " O  COMMA O  COMMA O   OTTHE E A  OTHE  E  ETO OCOMMA OA ECE OO  E A TA  E  A AE  OT E AH  ME  ME E  M CHTO E HTCOMMAE HO   THE   E AH A THECAT OTEHO ETHE    EMEM E HE  A CE O ME  ATTEATEME OT E AHM  EA E E H O  E E O  HE E ETHMETHE EA E OMECEE THEAE COMMAEMA  AE COMMA  T O ME HTCATCHA ATCOMMAA  THAT  E   E EAMO  ECOMMA O   O  OT  T OCAT EAT AT COMMAE O  E A  HE EA ECE E A TO ET ATHE   EE  COMMAA   E TO  A E  TOHE  E  COMMAE A  EAM  O TO  A COMMA OCAT EAT AT  OCAT EAT AT A   OMETEME COMMA O AT EATCAT  O COMMA O  EECOMMAA  HECO    TA   E EETHE   E TEO COMMAET E  TM CHMATTE  HECH A  HE  TET\n",
            " O NCOMMA O NCOMMA O N OTTHE E A NOTHEN E  ETO OCOMMA OA ECE OON E ANTA  EN A AEN OT ENAH  ME  ME E  M CHTONE HTCOMMAE HO   THEN  ENAH A THECAT OTEHO ETHE    EMEM E HE  A CE O ME  ATTEATEME OT ENAHM  EA E E H O  E E O NHE E ETHMETHE EA ENOMECEENTHEAE COMMAEMA  AE COMMA  T O ME HTCATCHA ATCOMMAAN THAT  E   E EAMO  ECOMMA O  NO  OT  T OCAT EAT AT COMMAE ON E AN HE EA ECE E ANTO ET ATHE   EE  COMMAAN  ENTON A EN TOHE  E  COMMAENA  EAM  O TO  A COMMA OCAT EAT AT  OCAT EAT AT AN  OMETEME COMMA O AT EATCAT  O COMMA O  EECOMMAA  HECO   NTAN  E EETHE   E TEONCOMMAET E NTM CHMATTE  HECH A  HE  TET\n"
          ]
        }
      ]
    },
    {
      "cell_type": "code",
      "source": [
        "commonletters = ['E', 'A', 'R', 'I', 'O', 'T', 'N', 'S', 'L', 'C', 'U', 'D', 'P']\n",
        "\n",
        "#brute force \n",
        "for i in range(10):\n",
        "\n",
        "  for i in range(len(string)):\n",
        "\n",
        "\n",
        "\n"
      ],
      "metadata": {
        "id": "j-QjrIqTECsS"
      },
      "execution_count": null,
      "outputs": []
    },
    {
      "cell_type": "code",
      "source": [],
      "metadata": {
        "id": "TSbf6OcuE2gP"
      },
      "execution_count": null,
      "outputs": []
    }
  ]
}